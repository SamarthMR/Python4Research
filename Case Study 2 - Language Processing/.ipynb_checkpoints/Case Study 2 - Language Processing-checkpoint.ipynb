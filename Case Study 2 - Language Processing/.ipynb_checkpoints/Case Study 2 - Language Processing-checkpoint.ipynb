{
 "cells": [
  {
   "cell_type": "markdown",
   "metadata": {},
   "source": [
    "**Counting words**"
   ]
  },
  {
   "cell_type": "code",
   "execution_count": 7,
   "metadata": {
    "collapsed": true
   },
   "outputs": [],
   "source": [
    "from collections import Counter\n",
    "\n",
    "def count_words(text):\n",
    "    \"\"\"\n",
    "    Count the number of times each word occurs in text. Return dictionary where\n",
    "    keys are unique words and values are word counts. \n",
    "    \"\"\"\n",
    "    text = text.lower()\n",
    "    skips = [\".\", \",\", \";\", \":\", \"'\", '\"']\n",
    "    for c in skips:\n",
    "        text = text.replace(c, \"\")\n",
    "    \n",
    "    word_counts = Counter(text.split(\" \"))\n",
    "    return word_counts    "
   ]
  },
  {
   "cell_type": "markdown",
   "metadata": {},
   "source": [
    "**Reading a book**"
   ]
  },
  {
   "cell_type": "code",
   "execution_count": 5,
   "metadata": {
    "collapsed": false
   },
   "outputs": [
    {
     "data": {
      "text/plain": [
       "150838"
      ]
     },
     "execution_count": 5,
     "metadata": {},
     "output_type": "execute_result"
    }
   ],
   "source": [
    "def read_book(title_path):\n",
    "    \"\"\"\n",
    "    Read a book and return it as a string.\n",
    "    \"\"\"\n",
    "    with open(title_path, \"r\", encoding=\"utf8\") as file:\n",
    "        text = file.read()\n",
    "        text = text.replace(\"\\n\", \"\").replace(\"\\r\", \"\")\n",
    "    \n",
    "    return text\n",
    "\n",
    "text = read_book(\"./books/English/shakespeare/Hamlet.txt\")\n",
    "\n",
    "len(text)"
   ]
  },
  {
   "cell_type": "code",
   "execution_count": 8,
   "metadata": {
    "collapsed": false
   },
   "outputs": [
    {
     "name": "stdout",
     "output_type": "stream",
     "text": [
      "To be or not to be that is the QuestionWhether tis Nobler in the minde to sufferThe Slings and Arrow\n"
     ]
    }
   ],
   "source": [
    "quote = \"To be or not to be\"\n",
    "index = text.find(quote)\n",
    "\n",
    "print(text[index: index + 100])"
   ]
  },
  {
   "cell_type": "markdown",
   "metadata": {},
   "source": [
    "**Computing Word Frequency Statistics**"
   ]
  },
  {
   "cell_type": "code",
   "execution_count": 8,
   "metadata": {
    "collapsed": false
   },
   "outputs": [
    {
     "name": "stdout",
     "output_type": "stream",
     "text": [
      "English version of Hamlet\n",
      "6776 28551\n",
      "German version of Hamlet\n",
      "9642 31635\n"
     ]
    }
   ],
   "source": [
    "def word_stats(word_counts):\n",
    "    \"\"\"Return number of unique words and word frequencies\"\"\"\n",
    "    return len(word_counts), word_counts.values()\n",
    "\n",
    "print(\"English version of Hamlet\")\n",
    "text = read_book(\"./books/English/shakespeare/Hamlet.txt\")\n",
    "uniq, counts = word_stats(count_words(text))\n",
    "print(uniq, sum(counts))\n",
    "\n",
    "print(\"German version of Hamlet\")\n",
    "text = read_book(\"./books/German/shakespeare/Hamlet.txt\")\n",
    "uniq, counts = word_stats(count_words(text))\n",
    "print(uniq, sum(counts))"
   ]
  },
  {
   "cell_type": "markdown",
   "metadata": {},
   "source": [
    "**Reading Multiple Files**"
   ]
  },
  {
   "cell_type": "code",
   "execution_count": 12,
   "metadata": {
    "collapsed": false
   },
   "outputs": [],
   "source": [
    "import os\n",
    "import pandas as pd\n",
    "\n",
    "book_dir = \"./books\"\n",
    "stats = pd.DataFrame(columns = (\"language\", \"author\", \"title\", \"length\", \"unique\"))\n",
    "row = 1\n",
    "\n",
    "for language in os.listdir(book_dir):\n",
    "    for author in os.listdir(book_dir + \"/\" + language):\n",
    "        for title in os.listdir(book_dir + \"/\" + language + \"/\" + author):\n",
    "            file = book_dir + \"/\" + language + \"/\" + author + \"/\" + title\n",
    "            text = read_book(file)\n",
    "            (uniq, counts) = word_stats(count_words(text))\n",
    "            stats.loc[row] = language, author.capitalize(), title.replace(\".txt\", \"\"), sum(counts), uniq\n",
    "            row += 1"
   ]
  },
  {
   "cell_type": "code",
   "execution_count": 13,
   "metadata": {
    "collapsed": false
   },
   "outputs": [
    {
     "data": {
      "text/html": [
       "<div>\n",
       "<table border=\"1\" class=\"dataframe\">\n",
       "  <thead>\n",
       "    <tr style=\"text-align: right;\">\n",
       "      <th></th>\n",
       "      <th>language</th>\n",
       "      <th>author</th>\n",
       "      <th>title</th>\n",
       "      <th>length</th>\n",
       "      <th>unique</th>\n",
       "    </tr>\n",
       "  </thead>\n",
       "  <tbody>\n",
       "    <tr>\n",
       "      <th>1</th>\n",
       "      <td>English</td>\n",
       "      <td>Shakespeare</td>\n",
       "      <td>A Midsummer Night's Dream</td>\n",
       "      <td>16103.0</td>\n",
       "      <td>4345.0</td>\n",
       "    </tr>\n",
       "    <tr>\n",
       "      <th>2</th>\n",
       "      <td>English</td>\n",
       "      <td>Shakespeare</td>\n",
       "      <td>Hamlet</td>\n",
       "      <td>28551.0</td>\n",
       "      <td>6776.0</td>\n",
       "    </tr>\n",
       "    <tr>\n",
       "      <th>3</th>\n",
       "      <td>English</td>\n",
       "      <td>Shakespeare</td>\n",
       "      <td>Macbeth</td>\n",
       "      <td>16874.0</td>\n",
       "      <td>4780.0</td>\n",
       "    </tr>\n",
       "    <tr>\n",
       "      <th>4</th>\n",
       "      <td>English</td>\n",
       "      <td>Shakespeare</td>\n",
       "      <td>Othello</td>\n",
       "      <td>26590.0</td>\n",
       "      <td>5898.0</td>\n",
       "    </tr>\n",
       "    <tr>\n",
       "      <th>5</th>\n",
       "      <td>English</td>\n",
       "      <td>Shakespeare</td>\n",
       "      <td>Richard III</td>\n",
       "      <td>48315.0</td>\n",
       "      <td>5449.0</td>\n",
       "    </tr>\n",
       "  </tbody>\n",
       "</table>\n",
       "</div>"
      ],
      "text/plain": [
       "  language       author                      title   length  unique\n",
       "1  English  Shakespeare  A Midsummer Night's Dream  16103.0  4345.0\n",
       "2  English  Shakespeare                     Hamlet  28551.0  6776.0\n",
       "3  English  Shakespeare                    Macbeth  16874.0  4780.0\n",
       "4  English  Shakespeare                    Othello  26590.0  5898.0\n",
       "5  English  Shakespeare                Richard III  48315.0  5449.0"
      ]
     },
     "execution_count": 13,
     "metadata": {},
     "output_type": "execute_result"
    }
   ],
   "source": [
    "stats.head()"
   ]
  },
  {
   "cell_type": "code",
   "execution_count": 14,
   "metadata": {
    "collapsed": false
   },
   "outputs": [
    {
     "data": {
      "text/html": [
       "<div>\n",
       "<table border=\"1\" class=\"dataframe\">\n",
       "  <thead>\n",
       "    <tr style=\"text-align: right;\">\n",
       "      <th></th>\n",
       "      <th>language</th>\n",
       "      <th>author</th>\n",
       "      <th>title</th>\n",
       "      <th>length</th>\n",
       "      <th>unique</th>\n",
       "    </tr>\n",
       "  </thead>\n",
       "  <tbody>\n",
       "    <tr>\n",
       "      <th>98</th>\n",
       "      <td>Portuguese</td>\n",
       "      <td>Queir¢s</td>\n",
       "      <td>O crime do padre Amaro</td>\n",
       "      <td>128630.0</td>\n",
       "      <td>29300.0</td>\n",
       "    </tr>\n",
       "    <tr>\n",
       "      <th>99</th>\n",
       "      <td>Portuguese</td>\n",
       "      <td>Queir¢s</td>\n",
       "      <td>O Mandarim</td>\n",
       "      <td>21440.0</td>\n",
       "      <td>7836.0</td>\n",
       "    </tr>\n",
       "    <tr>\n",
       "      <th>100</th>\n",
       "      <td>Portuguese</td>\n",
       "      <td>Queir¢s</td>\n",
       "      <td>O Primo Bazilio</td>\n",
       "      <td>107303.0</td>\n",
       "      <td>27644.0</td>\n",
       "    </tr>\n",
       "    <tr>\n",
       "      <th>101</th>\n",
       "      <td>Portuguese</td>\n",
       "      <td>Queir¢s</td>\n",
       "      <td>Os Maias</td>\n",
       "      <td>195771.0</td>\n",
       "      <td>40665.0</td>\n",
       "    </tr>\n",
       "    <tr>\n",
       "      <th>102</th>\n",
       "      <td>Portuguese</td>\n",
       "      <td>Shakespeare</td>\n",
       "      <td>Hamlet</td>\n",
       "      <td>30567.0</td>\n",
       "      <td>9700.0</td>\n",
       "    </tr>\n",
       "  </tbody>\n",
       "</table>\n",
       "</div>"
      ],
      "text/plain": [
       "       language       author                   title    length   unique\n",
       "98   Portuguese      Queir¢s  O crime do padre Amaro  128630.0  29300.0\n",
       "99   Portuguese      Queir¢s              O Mandarim   21440.0   7836.0\n",
       "100  Portuguese      Queir¢s         O Primo Bazilio  107303.0  27644.0\n",
       "101  Portuguese      Queir¢s                Os Maias  195771.0  40665.0\n",
       "102  Portuguese  Shakespeare                  Hamlet   30567.0   9700.0"
      ]
     },
     "execution_count": 14,
     "metadata": {},
     "output_type": "execute_result"
    }
   ],
   "source": [
    "stats.tail()"
   ]
  },
  {
   "cell_type": "markdown",
   "metadata": {},
   "source": [
    "**Plotting Book Statistics**"
   ]
  },
  {
   "cell_type": "code",
   "execution_count": 15,
   "metadata": {
    "collapsed": false
   },
   "outputs": [
    {
     "name": "stdout",
     "output_type": "stream",
     "text": [
      "Populating the interactive namespace from numpy and matplotlib\n"
     ]
    },
    {
     "name": "stderr",
     "output_type": "stream",
     "text": [
      "WARNING: pylab import has clobbered these variables: ['text', 'title']\n",
      "`%matplotlib` prevents importing * from pylab and numpy\n"
     ]
    },
    {
     "data": {
      "text/plain": [
       "[<matplotlib.lines.Line2D at 0x1800a4036d8>]"
      ]
     },
     "execution_count": 15,
     "metadata": {},
     "output_type": "execute_result"
    },
    {
     "data": {
      "image/png": "[encoded data removed]",
      "text/plain": [
       "<matplotlib.figure.Figure at 0x1800a2398d0>"
      ]
     },
     "metadata": {},
     "output_type": "display_data"
    }
   ],
   "source": [
    "import matplotlib.pyplot as plt\n",
    "%pylab inline\n",
    "\n",
    "plt.plot(stats.length, stats.unique, \"bo\")"
   ]
  },
  {
   "cell_type": "code",
   "execution_count": 16,
   "metadata": {
    "collapsed": false
   },
   "outputs": [
    {
     "data": {
      "text/plain": [
       "[<matplotlib.lines.Line2D at 0x1800a46e7f0>]"
      ]
     },
     "execution_count": 16,
     "metadata": {},
     "output_type": "execute_result"
    },
    {
     "data": {
      "image/png": "[encoded data removed]",
      "text/plain": [
       "<matplotlib.figure.Figure at 0x1800a239400>"
      ]
     },
     "metadata": {},
     "output_type": "display_data"
    }
   ],
   "source": [
    "plt.loglog(stats.length, stats.unique, \"bo\")"
   ]
  },
  {
   "cell_type": "code",
   "execution_count": 18,
   "metadata": {
    "collapsed": false,
    "scrolled": true
   },
   "outputs": [
    {
     "data": {
      "text/html": [
       "<div>\n",
       "<table border=\"1\" class=\"dataframe\">\n",
       "  <thead>\n",
       "    <tr style=\"text-align: right;\">\n",
       "      <th></th>\n",
       "      <th>language</th>\n",
       "      <th>author</th>\n",
       "      <th>title</th>\n",
       "      <th>length</th>\n",
       "      <th>unique</th>\n",
       "    </tr>\n",
       "  </thead>\n",
       "  <tbody>\n",
       "    <tr>\n",
       "      <th>40</th>\n",
       "      <td>German</td>\n",
       "      <td>Lessing</td>\n",
       "      <td>der freigeist</td>\n",
       "      <td>23660.0</td>\n",
       "      <td>6319.0</td>\n",
       "    </tr>\n",
       "    <tr>\n",
       "      <th>41</th>\n",
       "      <td>German</td>\n",
       "      <td>Lessing</td>\n",
       "      <td>der junge gelehrte</td>\n",
       "      <td>28155.0</td>\n",
       "      <td>7231.0</td>\n",
       "    </tr>\n",
       "    <tr>\n",
       "      <th>42</th>\n",
       "      <td>German</td>\n",
       "      <td>Lessing</td>\n",
       "      <td>die juden</td>\n",
       "      <td>12143.0</td>\n",
       "      <td>3887.0</td>\n",
       "    </tr>\n",
       "    <tr>\n",
       "      <th>43</th>\n",
       "      <td>German</td>\n",
       "      <td>Lessing</td>\n",
       "      <td>emilia galotti</td>\n",
       "      <td>20484.0</td>\n",
       "      <td>6631.0</td>\n",
       "    </tr>\n",
       "    <tr>\n",
       "      <th>44</th>\n",
       "      <td>German</td>\n",
       "      <td>Lessing</td>\n",
       "      <td>hamburgische dramaturgie</td>\n",
       "      <td>143699.0</td>\n",
       "      <td>29192.0</td>\n",
       "    </tr>\n",
       "    <tr>\n",
       "      <th>45</th>\n",
       "      <td>German</td>\n",
       "      <td>Lessing</td>\n",
       "      <td>minna von barnhelm</td>\n",
       "      <td>23863.0</td>\n",
       "      <td>7345.0</td>\n",
       "    </tr>\n",
       "    <tr>\n",
       "      <th>46</th>\n",
       "      <td>German</td>\n",
       "      <td>Lessing</td>\n",
       "      <td>miss sara sampson</td>\n",
       "      <td>28148.0</td>\n",
       "      <td>7231.0</td>\n",
       "    </tr>\n",
       "    <tr>\n",
       "      <th>47</th>\n",
       "      <td>German</td>\n",
       "      <td>Lessing</td>\n",
       "      <td>philotas</td>\n",
       "      <td>9535.0</td>\n",
       "      <td>3278.0</td>\n",
       "    </tr>\n",
       "    <tr>\n",
       "      <th>48</th>\n",
       "      <td>German</td>\n",
       "      <td>Raimund</td>\n",
       "      <td>Das MÑdchen aus der Feenwelt</td>\n",
       "      <td>21040.0</td>\n",
       "      <td>6443.0</td>\n",
       "    </tr>\n",
       "    <tr>\n",
       "      <th>49</th>\n",
       "      <td>German</td>\n",
       "      <td>Raimund</td>\n",
       "      <td>Der Alpenkînig und der Menschenfeind</td>\n",
       "      <td>21802.0</td>\n",
       "      <td>6996.0</td>\n",
       "    </tr>\n",
       "    <tr>\n",
       "      <th>50</th>\n",
       "      <td>German</td>\n",
       "      <td>Raimund</td>\n",
       "      <td>Der Barometermacher auf der Zauberinsel</td>\n",
       "      <td>16032.0</td>\n",
       "      <td>5318.0</td>\n",
       "    </tr>\n",
       "    <tr>\n",
       "      <th>51</th>\n",
       "      <td>German</td>\n",
       "      <td>Raimund</td>\n",
       "      <td>Der Diamant des Geisterkînigs</td>\n",
       "      <td>18855.0</td>\n",
       "      <td>5968.0</td>\n",
       "    </tr>\n",
       "    <tr>\n",
       "      <th>52</th>\n",
       "      <td>German</td>\n",
       "      <td>Raimund</td>\n",
       "      <td>Der Verschwender</td>\n",
       "      <td>25106.0</td>\n",
       "      <td>7423.0</td>\n",
       "    </tr>\n",
       "    <tr>\n",
       "      <th>53</th>\n",
       "      <td>German</td>\n",
       "      <td>Raimund</td>\n",
       "      <td>Die gefesselte Phantasie</td>\n",
       "      <td>16651.0</td>\n",
       "      <td>5823.0</td>\n",
       "    </tr>\n",
       "    <tr>\n",
       "      <th>54</th>\n",
       "      <td>German</td>\n",
       "      <td>Raimund</td>\n",
       "      <td>Die unheilbringende Krone</td>\n",
       "      <td>24701.0</td>\n",
       "      <td>7548.0</td>\n",
       "    </tr>\n",
       "    <tr>\n",
       "      <th>55</th>\n",
       "      <td>German</td>\n",
       "      <td>Raimund</td>\n",
       "      <td>Moisasurs Zauberfluch</td>\n",
       "      <td>17912.0</td>\n",
       "      <td>5738.0</td>\n",
       "    </tr>\n",
       "    <tr>\n",
       "      <th>56</th>\n",
       "      <td>German</td>\n",
       "      <td>Schiller</td>\n",
       "      <td>Der Neffe als Onkel</td>\n",
       "      <td>14349.0</td>\n",
       "      <td>4416.0</td>\n",
       "    </tr>\n",
       "    <tr>\n",
       "      <th>57</th>\n",
       "      <td>German</td>\n",
       "      <td>Schiller</td>\n",
       "      <td>Der Parasit, oder die Kunst, sein GlÅck zu machen</td>\n",
       "      <td>20450.0</td>\n",
       "      <td>6159.0</td>\n",
       "    </tr>\n",
       "    <tr>\n",
       "      <th>58</th>\n",
       "      <td>German</td>\n",
       "      <td>Schiller</td>\n",
       "      <td>die braut von messina</td>\n",
       "      <td>26482.0</td>\n",
       "      <td>6655.0</td>\n",
       "    </tr>\n",
       "    <tr>\n",
       "      <th>59</th>\n",
       "      <td>German</td>\n",
       "      <td>Schiller</td>\n",
       "      <td>Die Huldigung der KÅnste</td>\n",
       "      <td>3919.0</td>\n",
       "      <td>1730.0</td>\n",
       "    </tr>\n",
       "    <tr>\n",
       "      <th>60</th>\n",
       "      <td>German</td>\n",
       "      <td>Schiller</td>\n",
       "      <td>Die Jungfrau von Orleans</td>\n",
       "      <td>24181.0</td>\n",
       "      <td>8806.0</td>\n",
       "    </tr>\n",
       "    <tr>\n",
       "      <th>61</th>\n",
       "      <td>German</td>\n",
       "      <td>Schiller</td>\n",
       "      <td>Die Piccolomini</td>\n",
       "      <td>35456.0</td>\n",
       "      <td>6763.0</td>\n",
       "    </tr>\n",
       "    <tr>\n",
       "      <th>62</th>\n",
       "      <td>German</td>\n",
       "      <td>Schiller</td>\n",
       "      <td>Die Verschwîrung des Fiesco zu Genua</td>\n",
       "      <td>31128.0</td>\n",
       "      <td>10371.0</td>\n",
       "    </tr>\n",
       "    <tr>\n",
       "      <th>63</th>\n",
       "      <td>German</td>\n",
       "      <td>Schiller</td>\n",
       "      <td>Kabale und Liebe</td>\n",
       "      <td>30929.0</td>\n",
       "      <td>9969.0</td>\n",
       "    </tr>\n",
       "    <tr>\n",
       "      <th>64</th>\n",
       "      <td>German</td>\n",
       "      <td>Schiller</td>\n",
       "      <td>Turandot, Prinzessin von China</td>\n",
       "      <td>21441.0</td>\n",
       "      <td>7550.0</td>\n",
       "    </tr>\n",
       "    <tr>\n",
       "      <th>65</th>\n",
       "      <td>German</td>\n",
       "      <td>Schiller</td>\n",
       "      <td>Wallensteins Lager</td>\n",
       "      <td>15443.0</td>\n",
       "      <td>4379.0</td>\n",
       "    </tr>\n",
       "    <tr>\n",
       "      <th>66</th>\n",
       "      <td>German</td>\n",
       "      <td>Schiller</td>\n",
       "      <td>Wallensteins Tod</td>\n",
       "      <td>50725.0</td>\n",
       "      <td>8649.0</td>\n",
       "    </tr>\n",
       "    <tr>\n",
       "      <th>67</th>\n",
       "      <td>German</td>\n",
       "      <td>Shakespeare</td>\n",
       "      <td>Der Kaufmann von Venedig</td>\n",
       "      <td>20600.0</td>\n",
       "      <td>7121.0</td>\n",
       "    </tr>\n",
       "    <tr>\n",
       "      <th>68</th>\n",
       "      <td>German</td>\n",
       "      <td>Shakespeare</td>\n",
       "      <td>Ein Sommernachtstraum</td>\n",
       "      <td>16648.0</td>\n",
       "      <td>6444.0</td>\n",
       "    </tr>\n",
       "    <tr>\n",
       "      <th>69</th>\n",
       "      <td>German</td>\n",
       "      <td>Shakespeare</td>\n",
       "      <td>Hamlet</td>\n",
       "      <td>31635.0</td>\n",
       "      <td>9642.0</td>\n",
       "    </tr>\n",
       "    <tr>\n",
       "      <th>70</th>\n",
       "      <td>German</td>\n",
       "      <td>Shakespeare</td>\n",
       "      <td>Macbeth</td>\n",
       "      <td>19311.0</td>\n",
       "      <td>6750.0</td>\n",
       "    </tr>\n",
       "    <tr>\n",
       "      <th>71</th>\n",
       "      <td>German</td>\n",
       "      <td>Shakespeare</td>\n",
       "      <td>Othello</td>\n",
       "      <td>16568.0</td>\n",
       "      <td>6793.0</td>\n",
       "    </tr>\n",
       "    <tr>\n",
       "      <th>72</th>\n",
       "      <td>German</td>\n",
       "      <td>Shakespeare</td>\n",
       "      <td>Richard III</td>\n",
       "      <td>25888.0</td>\n",
       "      <td>9191.0</td>\n",
       "    </tr>\n",
       "    <tr>\n",
       "      <th>73</th>\n",
       "      <td>German</td>\n",
       "      <td>Shakespeare</td>\n",
       "      <td>Romeo und Julia</td>\n",
       "      <td>20311.0</td>\n",
       "      <td>7527.0</td>\n",
       "    </tr>\n",
       "  </tbody>\n",
       "</table>\n",
       "</div>"
      ],
      "text/plain": [
       "   language       author                                              title  \\\n",
       "40   German      Lessing                                      der freigeist   \n",
       "41   German      Lessing                                 der junge gelehrte   \n",
       "42   German      Lessing                                          die juden   \n",
       "43   German      Lessing                                     emilia galotti   \n",
       "44   German      Lessing                           hamburgische dramaturgie   \n",
       "45   German      Lessing                                 minna von barnhelm   \n",
       "46   German      Lessing                                  miss sara sampson   \n",
       "47   German      Lessing                                           philotas   \n",
       "48   German      Raimund                       Das MÑdchen aus der Feenwelt   \n",
       "49   German      Raimund               Der Alpenkînig und der Menschenfeind   \n",
       "50   German      Raimund            Der Barometermacher auf der Zauberinsel   \n",
       "51   German      Raimund                      Der Diamant des Geisterkînigs   \n",
       "52   German      Raimund                                   Der Verschwender   \n",
       "53   German      Raimund                           Die gefesselte Phantasie   \n",
       "54   German      Raimund                          Die unheilbringende Krone   \n",
       "55   German      Raimund                              Moisasurs Zauberfluch   \n",
       "56   German     Schiller                                Der Neffe als Onkel   \n",
       "57   German     Schiller  Der Parasit, oder die Kunst, sein GlÅck zu machen   \n",
       "58   German     Schiller                              die braut von messina   \n",
       "59   German     Schiller                           Die Huldigung der KÅnste   \n",
       "60   German     Schiller                           Die Jungfrau von Orleans   \n",
       "61   German     Schiller                                    Die Piccolomini   \n",
       "62   German     Schiller               Die Verschwîrung des Fiesco zu Genua   \n",
       "63   German     Schiller                                   Kabale und Liebe   \n",
       "64   German     Schiller                     Turandot, Prinzessin von China   \n",
       "65   German     Schiller                                 Wallensteins Lager   \n",
       "66   German     Schiller                                   Wallensteins Tod   \n",
       "67   German  Shakespeare                           Der Kaufmann von Venedig   \n",
       "68   German  Shakespeare                              Ein Sommernachtstraum   \n",
       "69   German  Shakespeare                                             Hamlet   \n",
       "70   German  Shakespeare                                            Macbeth   \n",
       "71   German  Shakespeare                                            Othello   \n",
       "72   German  Shakespeare                                        Richard III   \n",
       "73   German  Shakespeare                                    Romeo und Julia   \n",
       "\n",
       "      length   unique  \n",
       "40   23660.0   6319.0  \n",
       "41   28155.0   7231.0  \n",
       "42   12143.0   3887.0  \n",
       "43   20484.0   6631.0  \n",
       "44  143699.0  29192.0  \n",
       "45   23863.0   7345.0  \n",
       "46   28148.0   7231.0  \n",
       "47    9535.0   3278.0  \n",
       "48   21040.0   6443.0  \n",
       "49   21802.0   6996.0  \n",
       "50   16032.0   5318.0  \n",
       "51   18855.0   5968.0  \n",
       "52   25106.0   7423.0  \n",
       "53   16651.0   5823.0  \n",
       "54   24701.0   7548.0  \n",
       "55   17912.0   5738.0  \n",
       "56   14349.0   4416.0  \n",
       "57   20450.0   6159.0  \n",
       "58   26482.0   6655.0  \n",
       "59    3919.0   1730.0  \n",
       "60   24181.0   8806.0  \n",
       "61   35456.0   6763.0  \n",
       "62   31128.0  10371.0  \n",
       "63   30929.0   9969.0  \n",
       "64   21441.0   7550.0  \n",
       "65   15443.0   4379.0  \n",
       "66   50725.0   8649.0  \n",
       "67   20600.0   7121.0  \n",
       "68   16648.0   6444.0  \n",
       "69   31635.0   9642.0  \n",
       "70   19311.0   6750.0  \n",
       "71   16568.0   6793.0  \n",
       "72   25888.0   9191.0  \n",
       "73   20311.0   7527.0  "
      ]
     },
     "execution_count": 18,
     "metadata": {},
     "output_type": "execute_result"
    }
   ],
   "source": [
    "stats[stats.language == \"German\"]"
   ]
  },
  {
   "cell_type": "code",
   "execution_count": 19,
   "metadata": {
    "collapsed": false
   },
   "outputs": [
    {
     "data": {
      "image/png": "[encoded data removed]",
      "text/plain": [
       "<matplotlib.figure.Figure at 0x1800a2c4cf8>"
      ]
     },
     "metadata": {},
     "output_type": "display_data"
    }
   ],
   "source": [
    "plt.figure(figsize = (10, 10))\n",
    "subset = stats[stats.language == \"English\"]\n",
    "plt.loglog(subset.length, subset.unique, \"o\", label = \"English\")\n",
    "\n",
    "subset = stats[stats.language == \"French\"]\n",
    "plt.loglog(subset.length, subset.unique, \"o\", label = \"French\")\n",
    "\n",
    "subset = stats[stats.language == \"German\"]\n",
    "plt.loglog(subset.length, subset.unique, \"o\", label = \"German\")\n",
    "\n",
    "subset = stats[stats.language == \"Portuguese\"]\n",
    "plt.loglog(subset.length, subset.unique, \"o\", label = \"Portuguese\")\n",
    "plt.legend()\n",
    "plt.xlabel(\"Book length\")\n",
    "plt.ylabel(\"Number of unique words\")\n",
    "plt.savefig(\"lang_plot.pdf\")\n",
    "plt.show()"
   ]
  },
  {
   "cell_type": "code",
   "execution_count": null,
   "metadata": {
    "collapsed": true
   },
   "outputs": [],
   "source": []
  }
 ],
 "metadata": {
  "anaconda-cloud": {},
  "kernelspec": {
   "display_name": "Python [Root]",
   "language": "python",
   "name": "Python [Root]"
  },
  "language_info": {
   "codemirror_mode": {
    "name": "ipython",
    "version": 3
   },
   "file_extension": ".py",
   "mimetype": "text/x-python",
   "name": "python",
   "nbconvert_exporter": "python",
   "pygments_lexer": "ipython3",
   "version": "3.5.2"
  }
 },
 "nbformat": 4,
 "nbformat_minor": 0
}
