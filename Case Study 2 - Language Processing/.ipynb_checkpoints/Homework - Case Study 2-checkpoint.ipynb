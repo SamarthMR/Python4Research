{
 "cells": [
  {
   "cell_type": "markdown",
   "metadata": {},
   "source": [
    "### In this case study, we will find and plot the distribution of word frequencies for each translation of Hamlet. Perhaps the distribution of word frequencies of Hamlet depends on the translation --- let's find out!"
   ]
  },
  {
   "cell_type": "markdown",
   "metadata": {},
   "source": [
    "**Provided functions**"
   ]
  },
  {
   "cell_type": "code",
   "execution_count": 2,
   "metadata": {
    "collapsed": true
   },
   "outputs": [],
   "source": [
    "from collections import Counter\n",
    "\n",
    "def count_words_fast(text):\n",
    "    \"\"\"\n",
    "    Count the number of times each word occurs in text. Return dictionary where\n",
    "    keys are unique words and values are word counts. \n",
    "    \"\"\"\n",
    "    text = text.lower()\n",
    "    skips = [\".\", \",\", \";\", \":\", \"'\", '\"']\n",
    "    for c in skips:\n",
    "        text = text.replace(c, \"\")\n",
    "    \n",
    "    word_counts = Counter(text.split(\" \"))\n",
    "    return word_counts    \n",
    "\n",
    "def read_book(title_path):\n",
    "    \"\"\"\n",
    "    Read a book and return it as a string.\n",
    "    \"\"\"\n",
    "    with open(title_path, \"r\", encoding=\"utf8\") as file:\n",
    "        text = file.read()\n",
    "        text = text.replace(\"\\n\", \"\").replace(\"\\r\", \"\")\n",
    "    \n",
    "    return text\n",
    "\n",
    "def word_stats(word_counts):\n",
    "    \"\"\"Return number of unique words and word frequencies\"\"\"\n",
    "    return len(word_counts), word_counts.values()\n"
   ]
  },
  {
   "cell_type": "markdown",
   "metadata": {},
   "source": [
    "### Exercise 1"
   ]
  },
  {
   "cell_type": "code",
   "execution_count": 3,
   "metadata": {
    "collapsed": false
   },
   "outputs": [
    {
     "data": {
      "text/plain": [
       "Counter({1: 5180,\n",
       "         2: 647,\n",
       "         3: 250,\n",
       "         4: 146,\n",
       "         5: 92,\n",
       "         6: 56,\n",
       "         7: 49,\n",
       "         8: 29,\n",
       "         9: 27,\n",
       "         10: 20,\n",
       "         11: 26,\n",
       "         12: 11,\n",
       "         13: 17,\n",
       "         14: 16,\n",
       "         15: 8,\n",
       "         16: 10,\n",
       "         17: 13,\n",
       "         18: 6,\n",
       "         19: 8,\n",
       "         20: 6,\n",
       "         21: 5,\n",
       "         22: 3,\n",
       "         23: 3,\n",
       "         24: 9,\n",
       "         25: 8,\n",
       "         26: 3,\n",
       "         27: 2,\n",
       "         28: 1,\n",
       "         29: 5,\n",
       "         30: 1,\n",
       "         31: 2,\n",
       "         32: 1,\n",
       "         33: 1,\n",
       "         35: 4,\n",
       "         36: 2,\n",
       "         37: 2,\n",
       "         38: 3,\n",
       "         39: 3,\n",
       "         40: 4,\n",
       "         41: 3,\n",
       "         42: 1,\n",
       "         43: 3,\n",
       "         45: 3,\n",
       "         46: 4,\n",
       "         47: 2,\n",
       "         48: 3,\n",
       "         49: 1,\n",
       "         50: 2,\n",
       "         51: 2,\n",
       "         52: 2,\n",
       "         53: 1,\n",
       "         56: 2,\n",
       "         57: 1,\n",
       "         58: 1,\n",
       "         59: 1,\n",
       "         60: 2,\n",
       "         61: 1,\n",
       "         62: 1,\n",
       "         67: 1,\n",
       "         68: 1,\n",
       "         70: 1,\n",
       "         72: 3,\n",
       "         73: 2,\n",
       "         75: 3,\n",
       "         80: 1,\n",
       "         81: 1,\n",
       "         83: 2,\n",
       "         85: 2,\n",
       "         87: 1,\n",
       "         89: 2,\n",
       "         90: 1,\n",
       "         92: 1,\n",
       "         95: 1,\n",
       "         99: 1,\n",
       "         106: 1,\n",
       "         110: 1,\n",
       "         116: 2,\n",
       "         120: 1,\n",
       "         129: 1,\n",
       "         142: 1,\n",
       "         146: 1,\n",
       "         150: 1,\n",
       "         154: 1,\n",
       "         159: 1,\n",
       "         169: 1,\n",
       "         170: 1,\n",
       "         171: 1,\n",
       "         177: 1,\n",
       "         179: 1,\n",
       "         184: 1,\n",
       "         203: 1,\n",
       "         204: 1,\n",
       "         227: 1,\n",
       "         228: 1,\n",
       "         233: 1,\n",
       "         257: 1,\n",
       "         276: 1,\n",
       "         282: 1,\n",
       "         337: 1,\n",
       "         338: 1,\n",
       "         348: 1,\n",
       "         443: 1,\n",
       "         455: 1,\n",
       "         457: 1,\n",
       "         466: 1,\n",
       "         550: 1,\n",
       "         564: 1,\n",
       "         601: 1,\n",
       "         855: 1,\n",
       "         1850: 1})"
      ]
     },
     "execution_count": 3,
     "metadata": {},
     "output_type": "execute_result"
    }
   ],
   "source": [
    "def word_count_distribution(text):\n",
    "    \"\"\"\n",
    "    takes a book string and returns a dictionary where keys are \n",
    "    the count of times a collection of words appears in the translation \n",
    "    and values corresponding to the number of number of words that appear with that frequency.\n",
    "    \"\"\"\n",
    "    word_counts = count_words_fast(text)\n",
    "    count_distribution = Counter(word_counts.values())\n",
    "    return count_distribution\n",
    "    \n",
    "text = read_book(\"./books/English/shakespeare/Hamlet.txt\")\n",
    "distribution = word_count_distribution(text)\n",
    "distribution"
   ]
  },
  {
   "cell_type": "markdown",
   "metadata": {},
   "source": [
    "### Exercise 2"
   ]
  },
  {
   "cell_type": "code",
   "execution_count": 42,
   "metadata": {
    "collapsed": false
   },
   "outputs": [
    {
     "data": {
      "text/plain": [
       "{1: 0.23553719008264462,\n",
       " 2: 0.14005312868949238,\n",
       " 3: 0.10315820543093268,\n",
       " 4: 0.081611570247933862,\n",
       " 5: 0.068034238488783982,\n",
       " 6: 0.059769775678866544,\n",
       " 7: 0.052538370720188854,\n",
       " 8: 0.04825855962219594,\n",
       " 9: 0.044273907910271526,\n",
       " 10: 0.04132231404958675,\n",
       " 11: 0.037485242030696586,\n",
       " 12: 0.035861865407319948,\n",
       " 13: 0.033353010625737922,\n",
       " 14: 0.030991735537190035,\n",
       " 15: 0.029811097992916147,\n",
       " 16: 0.028335301062573759,\n",
       " 17: 0.026416765053128732,\n",
       " 18: 0.025531286894923233,\n",
       " 19: 0.024350649350649345,\n",
       " 20: 0.024203069657615095,\n",
       " 21: 0.023465171192443957,\n",
       " 22: 0.023022432113341207,\n",
       " 23: 0.022579693034238457,\n",
       " 24: 0.021251475796930319,\n",
       " 25: 0.020070838252656431,\n",
       " 26: 0.019923258559622181,\n",
       " 27: 0.019628099173553681,\n",
       " 28: 0.019480519480519431,\n",
       " 29: 0.018742621015348293,\n",
       " 30: 0.018595041322314043,\n",
       " 31: 0.018299881936245543,\n",
       " 32: 0.018152302243211293,\n",
       " 33: 0.018004722550177044,\n",
       " 35: 0.017414403778040155,\n",
       " 36: 0.017119244391971655,\n",
       " 37: 0.016824085005903155,\n",
       " 38: 0.016381345926800517,\n",
       " 39: 0.015938606847697767,\n",
       " 40: 0.015348288075560768,\n",
       " 41: 0.014905548996458129,\n",
       " 42: 0.014757969303423879,\n",
       " 43: 0.014315230224321129,\n",
       " 45: 0.014167650531286879,\n",
       " 46: 0.01372491145218413,\n",
       " 47: 0.013134592680047241,\n",
       " 48: 0.012839433293978741,\n",
       " 49: 0.012396694214875992,\n",
       " 50: 0.012249114521841742,\n",
       " 51: 0.011953955135773353,\n",
       " 52: 0.011658795749704853,\n",
       " 53: 0.011511216056670603,\n",
       " 56: 0.011363636363636354,\n",
       " 57: 0.011068476977567854,\n",
       " 58: 0.010773317591499465,\n",
       " 59: 0.010625737898465215,\n",
       " 60: 0.010478158205430965,\n",
       " 61: 0.010182998819362465,\n",
       " 62: 0.010035419126328216,\n",
       " 67: 0.0098878394332939656,\n",
       " 68: 0.0097402597402597157,\n",
       " 70: 0.0095926800472254659,\n",
       " 72: 0.009445100354191216,\n",
       " 73: 0.0090023612750885773,\n",
       " 75: 0.0087072018890200775,\n",
       " 80: 0.0082644628099173278,\n",
       " 81: 0.008116883116883078,\n",
       " 83: 0.0079693034238488281,\n",
       " 85: 0.0078217237308146892,\n",
       " 87: 0.0075265643447461894,\n",
       " 89: 0.0072314049586776896,\n",
       " 90: 0.0070838252656434397,\n",
       " 92: 0.0067886658795749399,\n",
       " 95: 0.0066410861865406901,\n",
       " 99: 0.0064935064935064402,\n",
       " 106: 0.0063459268004723013,\n",
       " 110: 0.0061983471074380514,\n",
       " 116: 0.0060507674144038015,\n",
       " 120: 0.0059031877213695516,\n",
       " 129: 0.0057556080283353017,\n",
       " 142: 0.0054604486422668019,\n",
       " 146: 0.005312868949232552,\n",
       " 150: 0.0044273907910271637,\n",
       " 154: 0.0042798110979929138,\n",
       " 159: 0.0041322314049586639,\n",
       " 169: 0.003984651711924414,\n",
       " 170: 0.0038370720188901641,\n",
       " 171: 0.0036894923258559142,\n",
       " 177: 0.0035419126328217754,\n",
       " 179: 0.0030991735537190257,\n",
       " 184: 0.0029515938606847758,\n",
       " 203: 0.0028040141676505259,\n",
       " 204: 0.002656434474616276,\n",
       " 227: 0.0025088547815820261,\n",
       " 228: 0.0023612750885477762,\n",
       " 233: 0.0022136953955135263,\n",
       " 257: 0.0020661157024793875,\n",
       " 276: 0.0019185360094451376,\n",
       " 282: 0.0017709563164108877,\n",
       " 337: 0.0016233766233766378,\n",
       " 338: 0.0014757969303423879,\n",
       " 348: 0.001328217237308138,\n",
       " 443: 0.0011806375442738881,\n",
       " 455: 0.0010330578512396382,\n",
       " 457: 0.00088547815820538833,\n",
       " 466: 0.00073789846517113844,\n",
       " 550: 0.00059031877213699957,\n",
       " 564: 0.00044273907910274968,\n",
       " 601: 0.00029515938606849978,\n",
       " 855: 0.00014757969303424989,\n",
       " 1850: 0.0}"
      ]
     },
     "execution_count": 42,
     "metadata": {},
     "output_type": "execute_result"
    }
   ],
   "source": [
    "import numpy as np\n",
    "\n",
    "def more_frequent(distribution):\n",
    "    total = sum(distribution.values())\n",
    "    result = dict(\n",
    "        zip(\n",
    "            sorted(list(distribution.keys())), \n",
    "            1 - np.cumsum(list(distribution.values())) / total\n",
    "        )\n",
    "    )\n",
    "    \n",
    "    return result\n",
    "\n",
    "cumulative = more_frequent(distribution)\n",
    "cumulative"
   ]
  },
  {
   "cell_type": "markdown",
   "metadata": {},
   "source": [
    "### Exercise 3"
   ]
  },
  {
   "cell_type": "code",
   "execution_count": 47,
   "metadata": {
    "collapsed": false
   },
   "outputs": [],
   "source": [
    "import pandas as pd\n",
    "import os\n",
    "\n",
    "hamlets = pd.DataFrame(columns = (\"language\", \"distribution\"))\n",
    "book_dir = \"books\"\n",
    "title_num = 1\n",
    "for language in os.listdir(book_dir):\n",
    "    for author in os.listdir(book_dir + \"/\" + language):\n",
    "        for title in os.listdir(book_dir + \"/\" + language + \"/\" + author):\n",
    "            if title == \"Hamlet.txt\":\n",
    "                inputfile = book_dir + \"/\" + language + \"/\" + author + \"/\" + title\n",
    "                text = read_book(inputfile)\n",
    "                distribution = word_count_distribution(text)\n",
    "                hamlets.loc[title_num] = language, distribution\n",
    "                title_num += 1"
   ]
  },
  {
   "cell_type": "code",
   "execution_count": 48,
   "metadata": {
    "collapsed": false
   },
   "outputs": [
    {
     "data": {
      "text/html": [
       "<div>\n",
       "<table border=\"1\" class=\"dataframe\">\n",
       "  <thead>\n",
       "    <tr style=\"text-align: right;\">\n",
       "      <th></th>\n",
       "      <th>language</th>\n",
       "      <th>distribution</th>\n",
       "    </tr>\n",
       "  </thead>\n",
       "  <tbody>\n",
       "    <tr>\n",
       "      <th>1</th>\n",
       "      <td>English</td>\n",
       "      <td>{1: 5180, 2: 647, 3: 250, 4: 146, 5: 92, 6: 56...</td>\n",
       "    </tr>\n",
       "    <tr>\n",
       "      <th>2</th>\n",
       "      <td>German</td>\n",
       "      <td>{1: 7527, 2: 878, 3: 366, 4: 179, 5: 130, 6: 8...</td>\n",
       "    </tr>\n",
       "    <tr>\n",
       "      <th>3</th>\n",
       "      <td>Portuguese</td>\n",
       "      <td>{1: 7457, 2: 959, 3: 400, 4: 208, 5: 126, 6: 7...</td>\n",
       "    </tr>\n",
       "  </tbody>\n",
       "</table>\n",
       "</div>"
      ],
      "text/plain": [
       "     language                                       distribution\n",
       "1     English  {1: 5180, 2: 647, 3: 250, 4: 146, 5: 92, 6: 56...\n",
       "2      German  {1: 7527, 2: 878, 3: 366, 4: 179, 5: 130, 6: 8...\n",
       "3  Portuguese  {1: 7457, 2: 959, 3: 400, 4: 208, 5: 126, 6: 7..."
      ]
     },
     "execution_count": 48,
     "metadata": {},
     "output_type": "execute_result"
    }
   ],
   "source": [
    "hamlets.head()"
   ]
  },
  {
   "cell_type": "code",
   "execution_count": 53,
   "metadata": {
    "collapsed": false
   },
   "outputs": [
    {
     "data": {
      "text/plain": [
       "'English'"
      ]
     },
     "execution_count": 53,
     "metadata": {},
     "output_type": "execute_result"
    }
   ],
   "source": [
    "hamlets.language[1]"
   ]
  },
  {
   "cell_type": "markdown",
   "metadata": {},
   "source": [
    "### Exercise 4"
   ]
  },
  {
   "cell_type": "code",
   "execution_count": 54,
   "metadata": {
    "collapsed": false
   },
   "outputs": [
    {
     "name": "stdout",
     "output_type": "stream",
     "text": [
      "Populating the interactive namespace from numpy and matplotlib\n"
     ]
    },
    {
     "name": "stderr",
     "output_type": "stream",
     "text": [
      "WARNING: pylab import has clobbered these variables: ['title', 'text']\n",
      "`%matplotlib` prevents importing * from pylab and numpy\n"
     ]
    },
    {
     "data": {
      "image/png": "[encoded data removed]",
      "text/plain": [
       "<matplotlib.figure.Figure at 0x13ca633a320>"
      ]
     },
     "metadata": {},
     "output_type": "display_data"
    }
   ],
   "source": [
    "import matplotlib.pyplot as plt\n",
    "%pylab inline\n",
    "\n",
    "colors = [\"crimson\", \"forestgreen\", \"blueviolet\"]\n",
    "handles, hamlet_languages = [], []\n",
    "for index in range(hamlets.shape[0]):\n",
    "    language, distribution = hamlets.language[index+1], hamlets.distribution[index+1]\n",
    "    dist = more_frequent(distribution)\n",
    "    plot, = plt.loglog(sorted(list(dist.keys())),sorted(list(dist.values()),\n",
    "        reverse = True), color = colors[index], linewidth = 2)\n",
    "    handles.append(plot)\n",
    "    hamlet_languages.append(language)\n",
    "plt.title(\"Word Frequencies in Hamlet Translations\")\n",
    "xlim    = [0, 2e3]\n",
    "xlabel  = \"Frequency of Word $W$\"\n",
    "ylabel  = \"Fraction of Words\\nWith Greater Frequency than $W$\"\n",
    "plt.xlim(xlim); plt.xlabel(xlabel); plt.ylabel(ylabel)\n",
    "plt.legend(handles, hamlet_languages, loc = \"upper right\", numpoints = 1)\n",
    "# show your plot using `plt.show`!\n",
    "\n",
    "plt.show()"
   ]
  },
  {
   "cell_type": "code",
   "execution_count": null,
   "metadata": {
    "collapsed": true
   },
   "outputs": [],
   "source": []
  }
 ],
 "metadata": {
  "anaconda-cloud": {},
  "kernelspec": {
   "display_name": "Python [Root]",
   "language": "python",
   "name": "Python [Root]"
  },
  "language_info": {
   "codemirror_mode": {
    "name": "ipython",
    "version": 3
   },
   "file_extension": ".py",
   "mimetype": "text/x-python",
   "name": "python",
   "nbconvert_exporter": "python",
   "pygments_lexer": "ipython3",
   "version": "3.5.2"
  }
 },
 "nbformat": 4,
 "nbformat_minor": 0
}
